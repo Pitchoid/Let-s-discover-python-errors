{
 "cells": [
  {
   "cell_type": "code",
   "execution_count": 6,
   "id": "c6a4efd4",
   "metadata": {},
   "outputs": [
    {
     "data": {
      "text/plain": [
       "[14, 'hello', 967]"
      ]
     },
     "execution_count": 6,
     "metadata": {},
     "output_type": "execute_result"
    }
   ],
   "source": [
    "# mylist=[14, \"hello\", 967]\n",
    "# mylist[6]\n",
    "mylist=[14, \"hello\", 967]\n",
    "mylist[0:]"
   ]
  },
  {
   "cell_type": "code",
   "execution_count": 10,
   "id": "c0433d63",
   "metadata": {},
   "outputs": [],
   "source": [
    "# import Pandas\n",
    "# import NumPy\n",
    "import pandas \n",
    "import numpy"
   ]
  },
  {
   "cell_type": "code",
   "execution_count": 21,
   "id": "3882a587",
   "metadata": {},
   "outputs": [
    {
     "name": "stdout",
     "output_type": "stream",
     "text": [
      "python errors\n"
     ]
    }
   ],
   "source": [
    "# Print\"python errors\"\n",
    "print(\"python errors\")"
   ]
  },
  {
   "cell_type": "code",
   "execution_count": 14,
   "id": "2dc8efdb",
   "metadata": {},
   "outputs": [
    {
     "data": {
      "text/plain": [
       "'hello'"
      ]
     },
     "execution_count": 14,
     "metadata": {},
     "output_type": "execute_result"
    }
   ],
   "source": [
    "# mydictionnary={True:\"hello\",False:\"bye\", '3':\"python\"}\n",
    "# mydictionnary['True']\n",
    "mydictionnary={True:\"hello\",False:\"bye\", '3':\"python\"}\n",
    "mydictionnary[True]"
   ]
  },
  {
   "cell_type": "code",
   "execution_count": null,
   "id": "3129c2be",
   "metadata": {
    "scrolled": false
   },
   "outputs": [],
   "source": [
    "# i=14\n",
    "# while i<78:\n",
    "# print(i)\n",
    "# i+=1\n",
    "i=0\n",
    "while i<78:\n",
    "    print(i)\n",
    "i+=1"
   ]
  },
  {
   "cell_type": "code",
   "execution_count": 22,
   "id": "46253c06",
   "metadata": {},
   "outputs": [
    {
     "data": {
      "text/plain": [
       "3"
      ]
     },
     "execution_count": 22,
     "metadata": {},
     "output_type": "execute_result"
    }
   ],
   "source": [
    "\"\"\"it=iter([1,2,3])\n",
    "next(it)\n",
    "next(it)\n",
    "next(it)\n",
    "next(it)\"\"\"\n",
    "it=iter([1,2,3])\n",
    "next(it)\n",
    "next(it)\n",
    "next(it)"
   ]
  },
  {
   "cell_type": "code",
   "execution_count": 4,
   "id": "76b265f3",
   "metadata": {},
   "outputs": [
    {
     "data": {
      "text/plain": [
       "30"
      ]
     },
     "execution_count": 4,
     "metadata": {},
     "output_type": "execute_result"
    }
   ],
   "source": [
    "#'15'+15\n",
    "15+15"
   ]
  },
  {
   "cell_type": "code",
   "execution_count": 9,
   "id": "452681dd",
   "metadata": {},
   "outputs": [
    {
     "data": {
      "text/plain": [
       "5"
      ]
     },
     "execution_count": 9,
     "metadata": {},
     "output_type": "execute_result"
    }
   ],
   "source": [
    "#int('python')\n",
    "int('5')"
   ]
  },
  {
   "cell_type": "code",
   "execution_count": 14,
   "id": "759f565a",
   "metadata": {},
   "outputs": [
    {
     "data": {
      "text/plain": [
       "5"
      ]
     },
     "execution_count": 14,
     "metadata": {},
     "output_type": "execute_result"
    }
   ],
   "source": [
    "#python\n",
    "python=5\n",
    "python"
   ]
  },
  {
   "cell_type": "code",
   "execution_count": 20,
   "id": "3357b5a5",
   "metadata": {},
   "outputs": [
    {
     "data": {
      "text/plain": [
       "6.333333333333333"
      ]
     },
     "execution_count": 20,
     "metadata": {},
     "output_type": "execute_result"
    }
   ],
   "source": [
    "#x=19/0\n",
    "x=19/3\n",
    "x"
   ]
  }
 ],
 "metadata": {
  "kernelspec": {
   "display_name": "Python 3 (ipykernel)",
   "language": "python",
   "name": "python3"
  },
  "language_info": {
   "codemirror_mode": {
    "name": "ipython",
    "version": 3
   },
   "file_extension": ".py",
   "mimetype": "text/x-python",
   "name": "python",
   "nbconvert_exporter": "python",
   "pygments_lexer": "ipython3",
   "version": "3.9.12"
  }
 },
 "nbformat": 4,
 "nbformat_minor": 5
}
